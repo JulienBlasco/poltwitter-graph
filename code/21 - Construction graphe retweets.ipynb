{
 "cells": [
  {
   "cell_type": "code",
   "execution_count": 11,
   "metadata": {
    "collapsed": true
   },
   "outputs": [],
   "source": [
    "import networkx as nx\n",
    "import json\n",
    "from collections import defaultdict\n",
    "from my_twitter import *\n",
    "from my_config import *\n",
    "import os"
   ]
  },
  {
   "cell_type": "code",
   "execution_count": 12,
   "metadata": {
    "collapsed": true
   },
   "outputs": [],
   "source": [
    "G_RT=nx.MultiDiGraph()"
   ]
  },
  {
   "cell_type": "code",
   "execution_count": 13,
   "metadata": {
    "collapsed": true
   },
   "outputs": [],
   "source": [
    "nodes_filename = \"../data/10 - \" + user_name + \"_\" + date + \".friends\"\n",
    "with open(nodes_filename, \"r\") as nodes_file:\n",
    "    nodes = json.load(nodes_file)"
   ]
  },
  {
   "cell_type": "code",
   "execution_count": 14,
   "metadata": {
    "collapsed": false
   },
   "outputs": [],
   "source": [
    "edges_dirpath = \"../data/12 - \" + user_name + \"_\" + date + \"_friends_retweets/\"\n",
    "for node in nodes:\n",
    "    edges_filename = edges_dirpath + str(node) + \".retweets\"\n",
    "    with open(edges_filename, \"r\") as edges_file:\n",
    "        edges = json.load(edges_file)\n",
    "        G_RT.add_edges_from(edges)"
   ]
  },
  {
   "cell_type": "code",
   "execution_count": 17,
   "metadata": {
    "collapsed": false
   },
   "outputs": [],
   "source": [
    "nx.write_graphml(G_RT, \"../coucou.graphml\")"
   ]
  }
 ],
 "metadata": {
  "anaconda-cloud": {},
  "kernelspec": {
   "display_name": "Python [Root]",
   "language": "python",
   "name": "Python [Root]"
  },
  "language_info": {
   "codemirror_mode": {
    "name": "ipython",
    "version": 3
   },
   "file_extension": ".py",
   "mimetype": "text/x-python",
   "name": "python",
   "nbconvert_exporter": "python",
   "pygments_lexer": "ipython3",
   "version": "3.5.2"
  }
 },
 "nbformat": 4,
 "nbformat_minor": 0
}
