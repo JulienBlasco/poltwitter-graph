{
 "cells": [
  {
   "cell_type": "code",
   "execution_count": 1,
   "metadata": {
    "collapsed": false
   },
   "outputs": [],
   "source": [
    "import token_credentials\n",
    "from my_twitter import *\n",
    "from datetime import datetime"
   ]
  },
  {
   "cell_type": "code",
   "execution_count": 2,
   "metadata": {
    "collapsed": false
   },
   "outputs": [],
   "source": [
    "proxy_exists=False\n",
    "bearer_token = token_credentials.token(proxy_exists)"
   ]
  },
  {
   "cell_type": "code",
   "execution_count": 3,
   "metadata": {
    "collapsed": true
   },
   "outputs": [],
   "source": [
    "user_name = \"topolitiq\"\n",
    "user_id = \"211124059\"\n",
    "date = str(datetime.date(datetime.now()))"
   ]
  },
  {
   "cell_type": "code",
   "execution_count": null,
   "metadata": {
    "collapsed": true
   },
   "outputs": [],
   "source": [
    "with open(\"my_config.py\", \"w\") as config_file:\n",
    "    config_file.write('''user_name = \"''' + user_name + '''\"\\n''')\n",
    "    config_file.write('''user_id = \"''' + user_id + '''\"\\n''')\n",
    "    config_file.write('''date = \"''' + date + '''\"''')"
   ]
  },
  {
   "cell_type": "code",
   "execution_count": 4,
   "metadata": {
    "collapsed": true
   },
   "outputs": [],
   "source": [
    "enriched = True\n",
    "suffix = \"_enriched\" if enriched else \"\""
   ]
  },
  {
   "cell_type": "code",
   "execution_count": 5,
   "metadata": {
    "collapsed": false,
    "scrolled": true
   },
   "outputs": [
    {
     "data": {
      "text/plain": [
       "(0,\n",
       " {0: datetime.datetime(2017, 3, 23, 12, 0, 28, 412368),\n",
       "  1: datetime.datetime(2017, 3, 23, 12, 0, 28, 412368),\n",
       "  2: datetime.datetime(2017, 3, 23, 12, 0, 28, 412368),\n",
       "  3: datetime.datetime(2017, 3, 23, 12, 0, 28, 412368),\n",
       "  4: datetime.datetime(2017, 3, 23, 12, 0, 28, 412368),\n",
       "  5: datetime.datetime(2017, 3, 23, 12, 0, 28, 412368),\n",
       "  6: datetime.datetime(2017, 3, 23, 12, 0, 28, 412368),\n",
       "  7: datetime.datetime(2017, 3, 23, 12, 0, 28, 412368),\n",
       "  8: datetime.datetime(2017, 3, 23, 12, 0, 28, 412368),\n",
       "  9: datetime.datetime(2017, 3, 23, 12, 0, 28, 412368),\n",
       "  10: datetime.datetime(2017, 3, 23, 12, 0, 28, 412368),\n",
       "  11: datetime.datetime(2017, 3, 23, 12, 0, 28, 412368),\n",
       "  12: datetime.datetime(2017, 3, 23, 12, 0, 28, 412368),\n",
       "  13: datetime.datetime(2017, 3, 23, 12, 0, 28, 412368),\n",
       "  14: datetime.datetime(2017, 3, 23, 12, 0, 28, 412368),\n",
       "  15: datetime.datetime(2017, 3, 23, 12, 0, 28, 412368)})"
      ]
     },
     "execution_count": 5,
     "metadata": {},
     "output_type": "execute_result"
    }
   ],
   "source": [
    "filename = \"../data/10 - \" + user_name + \"_\" + date + \".friends\" + suffix\n",
    "print_friends(user_id, bearer_token, filename, enriched=enriched)"
   ]
  }
 ],
 "metadata": {
  "anaconda-cloud": {},
  "kernelspec": {
   "display_name": "Python 3",
   "language": "python",
   "name": "python3"
  },
  "language_info": {
   "codemirror_mode": {
    "name": "ipython",
    "version": 3.0
   },
   "file_extension": ".py",
   "mimetype": "text/x-python",
   "name": "python",
   "nbconvert_exporter": "python",
   "pygments_lexer": "ipython3",
   "version": "3.5.1"
  }
 },
 "nbformat": 4,
 "nbformat_minor": 0
}