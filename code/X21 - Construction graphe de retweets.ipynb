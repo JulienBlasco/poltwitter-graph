{
 "cells": [
  {
   "cell_type": "code",
   "execution_count": null,
   "metadata": {
    "collapsed": true
   },
   "outputs": [],
   "source": [
    "%qtconsole"
   ]
  },
  {
   "cell_type": "code",
   "execution_count": 1,
   "metadata": {
    "collapsed": false
   },
   "outputs": [],
   "source": [
    "import networkx as nx\n",
    "import matplotlib.pyplot as plt\n",
    "import math\n",
    "import operator\n",
    "import os\n",
    "import json\n",
    "import datetime\n",
    "import time\n",
    "from collections import defaultdict\n",
    "from tqdm import tqdm"
   ]
  },
  {
   "cell_type": "code",
   "execution_count": 2,
   "metadata": {
    "collapsed": true
   },
   "outputs": [],
   "source": [
    "from my_twitter import *\n",
    "from my_config import *"
   ]
  },
  {
   "cell_type": "code",
   "execution_count": 3,
   "metadata": {
    "collapsed": true
   },
   "outputs": [],
   "source": [
    "filename = \"../data/10 - \" + user_name + \"_\" + date + \".friends_enriched\"\n",
    "with open(filename, \"r\") as friends_file:\n",
    "    friends = json.load(friends_file)"
   ]
  },
  {
   "cell_type": "code",
   "execution_count": 4,
   "metadata": {
    "collapsed": false,
    "scrolled": true
   },
   "outputs": [],
   "source": [
    "dirpath = \"../data/11 - \" + user_name + \"_\" + date + \"_friends_tweets\""
   ]
  },
  {
   "cell_type": "code",
   "execution_count": 5,
   "metadata": {
    "collapsed": false
   },
   "outputs": [],
   "source": [
    "authors_tweetcount = defaultdict(int)\n",
    "authors_uni_tc = defaultdict(int)\n",
    "authors_rtcount = defaultdict(int)\n",
    "authors_tweetlist = defaultdict(list)"
   ]
  },
  {
   "cell_type": "code",
   "execution_count": 6,
   "metadata": {
    "collapsed": true
   },
   "outputs": [],
   "source": [
    "edges = []"
   ]
  },
  {
   "cell_type": "code",
   "execution_count": 7,
   "metadata": {
    "collapsed": false
   },
   "outputs": [
    {
     "name": "stderr",
     "output_type": "stream",
     "text": [
      "100%|██████████████████████████████████████████████████████████████████████████████| 3396/3396 [04:14<00:00,  3.90it/s]\n"
     ]
    }
   ],
   "source": [
    "for author in tqdm(list(friends)):\n",
    "    \n",
    "    with open(dirpath + \"/\" + author[\"id_str\"] + \".tweets\",\"r\") as file:\n",
    "        tweets = json.load(file)\n",
    "        for tweet in tweets:\n",
    "            tweet = defaultdict(bool,tweet)\n",
    "            for field in tweet.keys():\n",
    "                if type(tweet[field]) is dict: tweet[field] = defaultdict(bool,tweet[field]\n",
    "                                                                         )\n",
    "            authors_tweetcount[tweet[\"user\"][\"id_str\"]] += 1\n",
    "\n",
    "            if \"retweeted_status\" not in tweet.keys():\n",
    "                authors_uni_tc[ tweet[\"user\"][\"id_str\"] ] += 1\n",
    "#                 authors_tweetlist[tweet[\"user\"][\"id_str\"]].append({\n",
    "#                         \"id_str\" : tweet[\"id_str\"],\n",
    "#                         \"created_at\" : tweet[\"created_at\"],\n",
    "#                         \"text\" : tweet[\"text\"],\n",
    "#                         \"times_retweeted\" : tweet[\"retweet_count\"]\n",
    "#                     })\n",
    "                \n",
    "            else:\n",
    "                authors_rtcount[tweet[\"user\"][\"id_str\"]] += 1\n",
    "                edges.append( \n",
    "                    {\n",
    "                        \"edge\" : (tweet[\"user\"][\"id_str\"],\n",
    "                                  tweet[\"retweeted_status\"][\"user\"][\"id_str\"]),\n",
    "                        \n",
    "                        \"tweet\" : {\n",
    "                                    \"id_str\" : tweet[\"retweeted_status\"][\"id_str\"],\n",
    "                                    \"created_at\" : tweet[\"retweeted_status\"][\"created_at\"],\n",
    "                                    \"text\" : tweet[\"retweeted_status\"][\"text\"]\n",
    "                                },\n",
    "                        \n",
    "                        \"rtdate\" : tweet[\"created_at\"]\n",
    "                    }\n",
    "                )"
   ]
  },
  {
   "cell_type": "code",
   "execution_count": 8,
   "metadata": {
    "collapsed": false
   },
   "outputs": [],
   "source": [
    "weighted_edges = [\n",
    "    (\n",
    "        edge[\"edge\"][0],\n",
    "        edge[\"edge\"][1],\n",
    "        {\n",
    "            \"weight\" : 1./authors_rtcount[edge[\"edge\"][0]],\n",
    "            \"rtdate\" : edge[\"rtdate\"],\n",
    "            \"tweetid\" : edge[\"tweet\"][\"id_str\"],\n",
    "            \"tweetdate\" : edge[\"tweet\"][\"created_at\"],\n",
    "            \"tweettext\" : edge[\"tweet\"][\"text\"]\n",
    "        }\n",
    "    )\n",
    "    for edge in edges\n",
    "]"
   ]
  },
  {
   "cell_type": "code",
   "execution_count": 9,
   "metadata": {
    "collapsed": true
   },
   "outputs": [],
   "source": [
    "G_RT=nx.MultiDiGraph()\n",
    "G_RT.add_edges_from(weighted_edges)\n",
    "G_RT.add_nodes_from([(f[\"id_str\"], f) for f in friends])"
   ]
  },
  {
   "cell_type": "code",
   "execution_count": 10,
   "metadata": {
    "collapsed": false,
    "scrolled": true
   },
   "outputs": [],
   "source": [
    "for element in G_RT.nodes():\n",
    "    if element not in [f[\"id_str\"] for f in friends]:\n",
    "        G_RT.remove_node(element)"
   ]
  },
  {
   "cell_type": "code",
   "execution_count": 11,
   "metadata": {
    "collapsed": true
   },
   "outputs": [],
   "source": [
    "for node in G_RT.nodes():\n",
    "    G_RT.node[node][\"tweetcount\"] = authors_tweetcount[node]\n",
    "    G_RT.node[node][\"uni_tc\"] = authors_uni_tc[node]\n",
    "    G_RT.node[node][\"rtcount\"] = authors_rtcount[node]\n",
    "#    G_RT.node[node][\"tweetlist\"] = authors_tweetlist[node]"
   ]
  },
  {
   "cell_type": "code",
   "execution_count": 66,
   "metadata": {
    "collapsed": false
   },
   "outputs": [
    {
     "data": {
      "text/plain": [
       "NoneType"
      ]
     },
     "execution_count": 66,
     "metadata": {},
     "output_type": "execute_result"
    }
   ],
   "source": [
    "type(None)"
   ]
  },
  {
   "cell_type": "code",
   "execution_count": 65,
   "metadata": {
    "collapsed": false
   },
   "outputs": [
    {
     "data": {
      "text/plain": [
       "[('pagerank_rt', float, 6.834353976328872e-05),\n",
       " ('muting', NoneType, None),\n",
       " ('follow_request_sent', NoneType, None),\n",
       " ('blocked_by', NoneType, None),\n",
       " ('notifications', NoneType, None),\n",
       " ('following', NoneType, None),\n",
       " ('blocking', NoneType, None)]"
      ]
     },
     "execution_count": 65,
     "metadata": {},
     "output_type": "execute_result"
    }
   ],
   "source": [
    "[(k, type(v),v) for k,v in G_RT.node[\"60033181\"].items() if type(v) not in [bool,str, int, dict]]"
   ]
  },
  {
   "cell_type": "code",
   "execution_count": 67,
   "metadata": {
    "collapsed": false
   },
   "outputs": [],
   "source": [
    "def graphml_supported(G):\n",
    "    G_copy = G.copy()\n",
    "    for node in G_copy.nodes():\n",
    "        G_copy.node[node] = {k:v for k,v in G_copy.node[node].items()\n",
    "                             if type(v) not in [dict, type(None)]}\n",
    "    return(G_copy)"
   ]
  },
  {
   "cell_type": "code",
   "execution_count": 28,
   "metadata": {
    "collapsed": true
   },
   "outputs": [],
   "source": [
    "H = nx.DiGraph()\n",
    "H.add_nodes_from(G_RT.nodes())\n",
    "for u,v,d in G_RT.edges(data=True):\n",
    "    w = d['weight']\n",
    "    if H.has_edge(u,v):\n",
    "        H[u][v]['weight'] += w\n",
    "    else:\n",
    "        H.add_edge(u,v,weight=w)"
   ]
  },
  {
   "cell_type": "code",
   "execution_count": 29,
   "metadata": {
    "collapsed": true
   },
   "outputs": [],
   "source": [
    "pr = nx.pagerank(H)"
   ]
  },
  {
   "cell_type": "code",
   "execution_count": 30,
   "metadata": {
    "collapsed": true
   },
   "outputs": [],
   "source": [
    "for node in G_RT.nodes():\n",
    "    G_RT.node[node][\"pagerank_rt\"] = pr[node]\n",
    "    G_RT.node[node][\"indegree_rt\"] = G_RT.in_degree(node)"
   ]
  },
  {
   "cell_type": "code",
   "execution_count": null,
   "metadata": {
    "collapsed": false
   },
   "outputs": [],
   "source": [
    "nx.write_graphml(graphml_supported(G_RT), \"../output/21 - graph_retweets_\" + user_name + \"_\" + date +\".graphml\", prettyprint=False)"
   ]
  },
  {
   "cell_type": "code",
   "execution_count": 32,
   "metadata": {
    "collapsed": false
   },
   "outputs": [],
   "source": [
    "nx.write_gpickle(G_RT, \"../temp/21 - graph_retweets_\" + user_name + \"_\" + date +\".gpickle\")"
   ]
  },
  {
   "cell_type": "code",
   "execution_count": null,
   "metadata": {
    "collapsed": true
   },
   "outputs": [],
   "source": [
    "%qtconsole"
   ]
  }
 ],
 "metadata": {
  "anaconda-cloud": {},
  "kernelspec": {
   "display_name": "Python [Root]",
   "language": "python",
   "name": "Python [Root]"
  },
  "language_info": {
   "codemirror_mode": {
    "name": "ipython",
    "version": 3
   },
   "file_extension": ".py",
   "mimetype": "text/x-python",
   "name": "python",
   "nbconvert_exporter": "python",
   "pygments_lexer": "ipython3",
   "version": "3.5.2"
  }
 },
 "nbformat": 4,
 "nbformat_minor": 0
}
